{
 "cells": [
  {
   "cell_type": "code",
   "execution_count": 1,
   "metadata": {},
   "outputs": [],
   "source": [
    "%load_ext autoreload\n",
    "%autoreload 2\n"
   ]
  },
  {
   "cell_type": "code",
   "execution_count": 3,
   "metadata": {},
   "outputs": [],
   "source": [
    "import torch"
   ]
  },
  {
   "cell_type": "code",
   "execution_count": 5,
   "metadata": {},
   "outputs": [
    {
     "data": {
      "text/plain": [
       "torch.device"
      ]
     },
     "execution_count": 5,
     "metadata": {},
     "output_type": "execute_result"
    }
   ],
   "source": [
    "t1 = torch.tensor([1,2,3])"
   ]
  },
  {
   "cell_type": "code",
   "execution_count": null,
   "metadata": {},
   "outputs": [],
   "source": []
  },
  {
   "cell_type": "code",
   "execution_count": 3,
   "metadata": {},
   "outputs": [
    {
     "name": "stdout",
     "output_type": "stream",
     "text": [
      "0 inacc\n",
      "1 dp\n",
      "2 eqodds\n",
      "3 prp\n",
      "self.label:  label\n",
      "root:  experiments\n",
      "self.model_obj.type:  LR\n",
      "12039    0.0\n",
      "9952     0.0\n",
      "9075     0.0\n",
      "20123    0.0\n",
      "11189    0.0\n",
      "        ... \n",
      "22725    0.0\n",
      "6481     1.0\n",
      "17072    1.0\n",
      "3175     0.0\n",
      "11090    0.0\n",
      "Name: label, Length: 12210, dtype: float64\n",
      "Adult\n"
     ]
    }
   ],
   "source": [
    "from main import Super_human, create_features_dict\n",
    "feature, num_of_features = create_features_dict(['inacc', 'dp', 'eqodds', 'prp'])\n",
    "sh_obj = Super_human(dataset = \"Adult\", num_of_demos = 50, feature = feature, num_of_features = 4, lr_theta = 0.01, noise = False, noise_ratio = 0.0, demo_baseline= \"pp\", base_model_type = \"NN\")\n",
    "sh_obj.base_model()"
   ]
  },
  {
   "cell_type": "code",
   "execution_count": 4,
   "metadata": {},
   "outputs": [
    {
     "name": "stdout",
     "output_type": "stream",
     "text": [
      "file_dir in read_demo_list:  experiments/data\n",
      "demo_list file name: \n",
      "demo_list_Adult_pp_50_0-0\n",
      "self.base_model_type:  LR\n",
      "\n",
      "--- 5.050799369812012 end of sample_superhuman ---\n"
     ]
    },
    {
     "name": "stderr",
     "output_type": "stream",
     "text": [
      "100%|██████████| 50/50 [00:10<00:00,  4.59it/s]\n"
     ]
    },
    {
     "name": "stdout",
     "output_type": "stream",
     "text": [
      "--- 10.90521240234375 end of get_sample_loss ---\n",
      "0 186.4842071533203\n",
      "THIS IS XXXXXXX\n",
      "THIS IS PREDICT PROBAB XXXXXXX\n"
     ]
    },
    {
     "ename": "RuntimeError",
     "evalue": "mat1 and mat2 shapes cannot be multiplied (24421x109 and 4x32)",
     "output_type": "error",
     "traceback": [
      "\u001b[0;31m---------------------------------------------------------------------------\u001b[0m",
      "\u001b[0;31mRuntimeError\u001b[0m                              Traceback (most recent call last)",
      "\u001b[1;32m/home/lvu5/superhumn-fairness/test_nn.ipynb Cell 4\u001b[0m line \u001b[0;36m3\n\u001b[1;32m      <a href='vscode-notebook-cell://ssh-remote%2Bziebart-gpu/home/lvu5/superhumn-fairness/test_nn.ipynb#W3sdnNjb2RlLXJlbW90ZQ%3D%3D?line=0'>1</a>\u001b[0m sh_obj\u001b[39m.\u001b[39mread_demo_list()\n\u001b[1;32m      <a href='vscode-notebook-cell://ssh-remote%2Bziebart-gpu/home/lvu5/superhumn-fairness/test_nn.ipynb#W3sdnNjb2RlLXJlbW90ZQ%3D%3D?line=1'>2</a>\u001b[0m sh_obj\u001b[39m.\u001b[39mupdate_model(lr_theta \u001b[39m=\u001b[39m \u001b[39m0.01\u001b[39m, iters \u001b[39m=\u001b[39m \u001b[39m1\u001b[39m)\n\u001b[0;32m----> <a href='vscode-notebook-cell://ssh-remote%2Bziebart-gpu/home/lvu5/superhumn-fairness/test_nn.ipynb#W3sdnNjb2RlLXJlbW90ZQ%3D%3D?line=2'>3</a>\u001b[0m sh_obj\u001b[39m.\u001b[39;49mtest_model(\u001b[39m-\u001b[39;49m\u001b[39m1\u001b[39;49m)\n",
      "File \u001b[0;32m~/superhumn-fairness/main.py:999\u001b[0m, in \u001b[0;36mSuper_human.test_model\u001b[0;34m(self, exp_idx)\u001b[0m\n\u001b[1;32m    998\u001b[0m \u001b[39mdef\u001b[39;00m \u001b[39mtest_model\u001b[39m(\u001b[39mself\u001b[39m, exp_idx):\n\u001b[0;32m--> 999\u001b[0m   eval_sh \u001b[39m=\u001b[39m \u001b[39mself\u001b[39;49m\u001b[39m.\u001b[39;49meval_model(mode \u001b[39m=\u001b[39;49m \u001b[39m\"\u001b[39;49m\u001b[39mtest-sh\u001b[39;49m\u001b[39m\"\u001b[39;49m)\n\u001b[1;32m   1000\u001b[0m   \u001b[39mprint\u001b[39m()\n\u001b[1;32m   1001\u001b[0m   \u001b[39mprint\u001b[39m(eval_sh)\n",
      "File \u001b[0;32m~/superhumn-fairness/main.py:866\u001b[0m, in \u001b[0;36mSuper_human.eval_model\u001b[0;34m(self, mode)\u001b[0m\n\u001b[1;32m    864\u001b[0m   X \u001b[39m=\u001b[39m X\u001b[39m.\u001b[39mto_numpy(dtype\u001b[39m=\u001b[39mnp\u001b[39m.\u001b[39mfloat32)\n\u001b[1;32m    865\u001b[0m   X \u001b[39m=\u001b[39m torch\u001b[39m.\u001b[39mfrom_numpy(X)\n\u001b[0;32m--> 866\u001b[0m scores \u001b[39m=\u001b[39m \u001b[39mself\u001b[39;49m\u001b[39m.\u001b[39;49mmodel_obj\u001b[39m.\u001b[39;49mpredict_proba(X)[:, \u001b[39m1\u001b[39m]\n\u001b[1;32m    868\u001b[0m \u001b[39m# Predictions (0 or 1) on test set\u001b[39;00m\n\u001b[1;32m    869\u001b[0m preds \u001b[39m=\u001b[39m (scores \u001b[39m>\u001b[39m\u001b[39m=\u001b[39m np\u001b[39m.\u001b[39mmean(Y_train)) \u001b[39m*\u001b[39m \u001b[39m1\u001b[39m\n",
      "File \u001b[0;32m~/superhumn-fairness/model.py:150\u001b[0m, in \u001b[0;36mNN_base_superhuman_model.predict_proba\u001b[0;34m(self, X)\u001b[0m\n\u001b[1;32m    147\u001b[0m         data \u001b[39m=\u001b[39m X\n\u001b[1;32m    149\u001b[0m \u001b[39mwith\u001b[39;00m torch\u001b[39m.\u001b[39mno_grad():\n\u001b[0;32m--> 150\u001b[0m     pred \u001b[39m=\u001b[39m \u001b[39mself\u001b[39;49m\u001b[39m.\u001b[39;49mmodel(data, \u001b[39mself\u001b[39;49m\u001b[39m.\u001b[39;49mdemo_list, \u001b[39mself\u001b[39;49m\u001b[39m.\u001b[39;49mnum_of_demos, \u001b[39mself\u001b[39;49m\u001b[39m.\u001b[39;49mnum_of_features, \u001b[39mself\u001b[39;49m\u001b[39m.\u001b[39;49msubdom_constant, \u001b[39mself\u001b[39;49m\u001b[39m.\u001b[39;49malpha, \u001b[39mself\u001b[39;49m\u001b[39m.\u001b[39;49msample_loss)\n\u001b[1;32m    151\u001b[0m \u001b[39mreturn\u001b[39;00m pred\u001b[39m.\u001b[39mcpu()\u001b[39m.\u001b[39mnumpy()\n",
      "File \u001b[0;32m/usr/local/lib/python3.8/dist-packages/torch/nn/modules/module.py:1102\u001b[0m, in \u001b[0;36mModule._call_impl\u001b[0;34m(self, *input, **kwargs)\u001b[0m\n\u001b[1;32m   1098\u001b[0m \u001b[39m# If we don't have any hooks, we want to skip the rest of the logic in\u001b[39;00m\n\u001b[1;32m   1099\u001b[0m \u001b[39m# this function, and just call forward.\u001b[39;00m\n\u001b[1;32m   1100\u001b[0m \u001b[39mif\u001b[39;00m \u001b[39mnot\u001b[39;00m (\u001b[39mself\u001b[39m\u001b[39m.\u001b[39m_backward_hooks \u001b[39mor\u001b[39;00m \u001b[39mself\u001b[39m\u001b[39m.\u001b[39m_forward_hooks \u001b[39mor\u001b[39;00m \u001b[39mself\u001b[39m\u001b[39m.\u001b[39m_forward_pre_hooks \u001b[39mor\u001b[39;00m _global_backward_hooks\n\u001b[1;32m   1101\u001b[0m         \u001b[39mor\u001b[39;00m _global_forward_hooks \u001b[39mor\u001b[39;00m _global_forward_pre_hooks):\n\u001b[0;32m-> 1102\u001b[0m     \u001b[39mreturn\u001b[39;00m forward_call(\u001b[39m*\u001b[39;49m\u001b[39minput\u001b[39;49m, \u001b[39m*\u001b[39;49m\u001b[39m*\u001b[39;49mkwargs)\n\u001b[1;32m   1103\u001b[0m \u001b[39m# Do not call functions when jit is used\u001b[39;00m\n\u001b[1;32m   1104\u001b[0m full_backward_hooks, non_full_backward_hooks \u001b[39m=\u001b[39m [], []\n",
      "File \u001b[0;32m~/superhumn-fairness/model.py:171\u001b[0m, in \u001b[0;36mClassifier.forward\u001b[0;34m(self, x, demo_list, num_of_demos, num_of_features, subdom_constant, alpha, sample_loss)\u001b[0m\n\u001b[1;32m    170\u001b[0m \u001b[39mdef\u001b[39;00m \u001b[39mforward\u001b[39m(\u001b[39mself\u001b[39m, x, demo_list, num_of_demos, num_of_features, subdom_constant, alpha, sample_loss):\n\u001b[0;32m--> 171\u001b[0m     x \u001b[39m=\u001b[39m \u001b[39mself\u001b[39;49m\u001b[39m.\u001b[39;49mfc1(x)\n\u001b[1;32m    172\u001b[0m     x \u001b[39m=\u001b[39m \u001b[39mself\u001b[39m\u001b[39m.\u001b[39mrelu(x)\n\u001b[1;32m    173\u001b[0m     x \u001b[39m=\u001b[39m \u001b[39mself\u001b[39m\u001b[39m.\u001b[39mfc2(x)\n",
      "File \u001b[0;32m/usr/local/lib/python3.8/dist-packages/torch/nn/modules/module.py:1102\u001b[0m, in \u001b[0;36mModule._call_impl\u001b[0;34m(self, *input, **kwargs)\u001b[0m\n\u001b[1;32m   1098\u001b[0m \u001b[39m# If we don't have any hooks, we want to skip the rest of the logic in\u001b[39;00m\n\u001b[1;32m   1099\u001b[0m \u001b[39m# this function, and just call forward.\u001b[39;00m\n\u001b[1;32m   1100\u001b[0m \u001b[39mif\u001b[39;00m \u001b[39mnot\u001b[39;00m (\u001b[39mself\u001b[39m\u001b[39m.\u001b[39m_backward_hooks \u001b[39mor\u001b[39;00m \u001b[39mself\u001b[39m\u001b[39m.\u001b[39m_forward_hooks \u001b[39mor\u001b[39;00m \u001b[39mself\u001b[39m\u001b[39m.\u001b[39m_forward_pre_hooks \u001b[39mor\u001b[39;00m _global_backward_hooks\n\u001b[1;32m   1101\u001b[0m         \u001b[39mor\u001b[39;00m _global_forward_hooks \u001b[39mor\u001b[39;00m _global_forward_pre_hooks):\n\u001b[0;32m-> 1102\u001b[0m     \u001b[39mreturn\u001b[39;00m forward_call(\u001b[39m*\u001b[39;49m\u001b[39minput\u001b[39;49m, \u001b[39m*\u001b[39;49m\u001b[39m*\u001b[39;49mkwargs)\n\u001b[1;32m   1103\u001b[0m \u001b[39m# Do not call functions when jit is used\u001b[39;00m\n\u001b[1;32m   1104\u001b[0m full_backward_hooks, non_full_backward_hooks \u001b[39m=\u001b[39m [], []\n",
      "File \u001b[0;32m/usr/local/lib/python3.8/dist-packages/torch/nn/modules/linear.py:103\u001b[0m, in \u001b[0;36mLinear.forward\u001b[0;34m(self, input)\u001b[0m\n\u001b[1;32m    102\u001b[0m \u001b[39mdef\u001b[39;00m \u001b[39mforward\u001b[39m(\u001b[39mself\u001b[39m, \u001b[39minput\u001b[39m: Tensor) \u001b[39m-\u001b[39m\u001b[39m>\u001b[39m Tensor:\n\u001b[0;32m--> 103\u001b[0m     \u001b[39mreturn\u001b[39;00m F\u001b[39m.\u001b[39;49mlinear(\u001b[39minput\u001b[39;49m, \u001b[39mself\u001b[39;49m\u001b[39m.\u001b[39;49mweight, \u001b[39mself\u001b[39;49m\u001b[39m.\u001b[39;49mbias)\n",
      "File \u001b[0;32m/usr/local/lib/python3.8/dist-packages/torch/nn/functional.py:1848\u001b[0m, in \u001b[0;36mlinear\u001b[0;34m(input, weight, bias)\u001b[0m\n\u001b[1;32m   1846\u001b[0m \u001b[39mif\u001b[39;00m has_torch_function_variadic(\u001b[39minput\u001b[39m, weight, bias):\n\u001b[1;32m   1847\u001b[0m     \u001b[39mreturn\u001b[39;00m handle_torch_function(linear, (\u001b[39minput\u001b[39m, weight, bias), \u001b[39minput\u001b[39m, weight, bias\u001b[39m=\u001b[39mbias)\n\u001b[0;32m-> 1848\u001b[0m \u001b[39mreturn\u001b[39;00m torch\u001b[39m.\u001b[39;49m_C\u001b[39m.\u001b[39;49m_nn\u001b[39m.\u001b[39;49mlinear(\u001b[39minput\u001b[39;49m, weight, bias)\n",
      "\u001b[0;31mRuntimeError\u001b[0m: mat1 and mat2 shapes cannot be multiplied (24421x109 and 4x32)"
     ]
    }
   ],
   "source": [
    "sh_obj.read_demo_list()\n",
    "sh_obj.update_model(lr_theta = 0.01, iters = 1)\n",
    "sh_obj.test_model(-1)"
   ]
  },
  {
   "cell_type": "code",
   "execution_count": null,
   "metadata": {},
   "outputs": [],
   "source": []
  },
  {
   "cell_type": "code",
   "execution_count": null,
   "metadata": {},
   "outputs": [],
   "source": []
  }
 ],
 "metadata": {
  "kernelspec": {
   "display_name": "Python 3",
   "language": "python",
   "name": "python3"
  },
  "language_info": {
   "codemirror_mode": {
    "name": "ipython",
    "version": 3
   },
   "file_extension": ".py",
   "mimetype": "text/x-python",
   "name": "python",
   "nbconvert_exporter": "python",
   "pygments_lexer": "ipython3",
   "version": "3.8.10"
  }
 },
 "nbformat": 4,
 "nbformat_minor": 2
}
