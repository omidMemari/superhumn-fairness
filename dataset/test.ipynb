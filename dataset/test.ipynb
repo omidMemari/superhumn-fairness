{
 "cells": [
  {
   "cell_type": "code",
   "execution_count": 20,
   "metadata": {},
   "outputs": [],
   "source": [
    "import pandas as pd\n",
    "import numpy as np\n",
    "from folktables import ACSDataSource, ACSEmployment, ACSIncomePovertyRatio, ACSMobility, ACSIncome, ACSHealthInsurance, ACSPublicCoverage, ACSTravelTime, generate_categories\n",
    "from sklearn.preprocessing import StandardScaler\n",
    "from sklearn.pipeline import Pipeline\n",
    "import os\n"
   ]
  },
  {
   "cell_type": "code",
   "execution_count": 2,
   "metadata": {},
   "outputs": [],
   "source": [
    "path = './data/2018/1-Year/psam_p04.csv'"
   ]
  },
  {
   "cell_type": "code",
   "execution_count": 3,
   "metadata": {},
   "outputs": [],
   "source": [
    "df = pd.read_csv(path)"
   ]
  },
  {
   "cell_type": "code",
   "execution_count": 52,
   "metadata": {},
   "outputs": [],
   "source": [
    "data_source = ACSDataSource(\n",
    "    survey_year='2018', horizon='1-Year', survey='person')\n",
    "\n",
    "west_states = [\"CA\", \"OR\", \"WA\", \"NV\", \"AZ\"]\n",
    "east_states = ['ME', 'NH', 'MA', 'RI', 'CT', 'NY',\n",
    "                'NJ', 'DE', 'MD', 'VA', 'NC', 'SC', 'GA', 'FL']\n",
    "acs_data = data_source.get_data(states=west_states, download=True)\n",
    "\n",
    "acss = ['acs_west_poverty', 'acs_west_mobility', 'acs_west_income', 'acs_west_insurance',\n",
    "        'acs_west_public', 'acs_west_travel', 'acs_west_poverty', 'acs_west_employment']\n",
    "param = [128, 4, 8, 16, 32, 64, 128, 256]\n",
    "folks = [ACSIncomePovertyRatio, ACSMobility, ACSIncome, ACSHealthInsurance,\n",
    "            ACSPublicCoverage, ACSTravelTime, ACSIncomePovertyRatio, ACSEmployment]\n",
    "\n",
    "\n",
    "\n",
    "\n",
    "acs_task, task_name, seed = folks[0], acss[0], param[0]\n",
    "#pprint(inspect.getmembers(acs_task))\n",
    "group_var = acs_task.group\n",
    "target_var = acs_task.target\n",
    "groups_to_keep = [1, 2]\n",
    "acs_data = acs_data.loc[acs_data[group_var].isin(groups_to_keep)]\n",
    "dataX, dataY, dataA = acs_task.df_to_pandas(acs_data)\n",
    "# taking catoegorical features\n",
    "definition_df = data_source.get_definitions(download=True)\n",
    "categories = generate_categories(features=acs_task.group, definition_df=definition_df)\n",
    "categories_cols = categories.keys()\n",
    "# taking non-categorical features\n",
    "# non_categorical_cols = [col for col in dataX.columns if col not in categories_cols]\n",
    "# dataX[non_categorical_cols] = dataX[non_categorical_cols].astype(float)\n",
    "# # use standard scaler to scale non_categorical_cols\n",
    "# pipe = Pipeline([('scaler', StandardScaler())])\n",
    "# dataX[non_categorical_cols] = pipe.fit_transform(dataX[non_categorical_cols])\n",
    "# # use one-hot encoding to encode categorical_cols\n",
    "# dataX = pd.get_dummies(dataX, columns=categories_cols)\n",
    "# # process dataA and dataY\n",
    "# columnsY = dataY.columns\n",
    "# columnsA = dataA.columns\n",
    "# #categorize dataA\n",
    "# dataA = dataA.apply(lambda x: x.astype('category').cat.codes)\n",
    "# dataY = dataY.apply(lambda x: x.astype('category').cat.codes)\n",
    "# df = create_dataset_ref(dataX, dataA, dataY)\n",
    "# # # create folder with task_name if not exist\n",
    "# if not os.path.exists('{}'.format(task_name)):\n",
    "#     os.makedirs('{}'.format(task_name))\n",
    "# path = '{}/dataset_ref.csv'.format(task_name)\n",
    "# df.to_csv(path, index=False)"
   ]
  },
  {
   "cell_type": "code",
   "execution_count": null,
   "metadata": {},
   "outputs": [],
   "source": []
  }
 ],
 "metadata": {
  "kernelspec": {
   "display_name": "Python 3",
   "language": "python",
   "name": "python3"
  },
  "language_info": {
   "codemirror_mode": {
    "name": "ipython",
    "version": 3
   },
   "file_extension": ".py",
   "mimetype": "text/x-python",
   "name": "python",
   "nbconvert_exporter": "python",
   "pygments_lexer": "ipython3",
   "version": "3.8.10"
  },
  "orig_nbformat": 4
 },
 "nbformat": 4,
 "nbformat_minor": 2
}
